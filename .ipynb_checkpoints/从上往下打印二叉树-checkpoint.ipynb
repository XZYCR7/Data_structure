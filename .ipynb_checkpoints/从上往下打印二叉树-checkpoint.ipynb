{
 "cells": [
  {
   "cell_type": "code",
   "execution_count": null,
   "metadata": {},
   "outputs": [],
   "source": [
    "# -*- coding:utf-8 -*-\n",
    "class TreeNode:\n",
    "    def __init__(self, x):\n",
    "        self.val = x\n",
    "        self.left = None\n",
    "        self.right = None\n",
    "class Solution:\n",
    "    # 返回从上到下每个节点值列表，例：[1,2,3]\n",
    "    def PrintFromTopToBottom(self, root):\n",
    "        if root == None:\n",
    "            return []\n",
    "        #辅助列表\n",
    "        support = [root]\n",
    "        ret = []\n",
    "\n",
    "        while support:\n",
    "            tmpNode = support[0]\n",
    "            ret.append(tmpNode.val)\n",
    "\n",
    "            if tmpNode.left:\n",
    "                support.append(tmpNode.left)\n",
    "            if tmpNode.right:\n",
    "                support.append(tmpNode.right)\n",
    "            del support[0]\n",
    "\n",
    "        return ret"
   ]
  }
 ],
 "metadata": {
  "kernelspec": {
   "display_name": "Python 3",
   "language": "python",
   "name": "python3"
  },
  "language_info": {
   "codemirror_mode": {
    "name": "ipython",
    "version": 3
   },
   "file_extension": ".py",
   "mimetype": "text/x-python",
   "name": "python",
   "nbconvert_exporter": "python",
   "pygments_lexer": "ipython3",
   "version": "3.7.6"
  }
 },
 "nbformat": 4,
 "nbformat_minor": 4
}
