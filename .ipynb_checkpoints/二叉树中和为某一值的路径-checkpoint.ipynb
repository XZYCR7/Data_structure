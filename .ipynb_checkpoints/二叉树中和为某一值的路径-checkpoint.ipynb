{
 "cells": [
  {
   "cell_type": "markdown",
   "metadata": {},
   "source": [
    "# 题目描述\n",
    "#### 输入一颗二叉树的根节点和一个整数，打印出二叉树中结点值的和为输入整数的所有路径。路径定义为从树的根结点开始往下一直到叶结点所经过的结点形成一条路径。(注意: 在返回值的list中，数组长度大的数组靠前)"
   ]
  },
  {
   "cell_type": "code",
   "execution_count": null,
   "metadata": {},
   "outputs": [],
   "source": [
    "# -*- coding:utf-8 -*-\n",
    "import copy\n",
    "class TreeNode:\n",
    "    def __init__(self, x):\n",
    "        self.val = x\n",
    "        self.left = None\n",
    "        self.right = None\n",
    "\n",
    "class Solution:\n",
    "    # 返回二维列表，内部每个列表表示找到的路径\n",
    "    def FindPath(self, root, expectNumber):\n",
    "\n",
    "        if root == None:\n",
    "            return []\n",
    "\n",
    "        ret = []\n",
    "        #保存路径的值\n",
    "        supportArraryList = [[root.val]]\n",
    "        #保存路径的节点Node，用来做广度优先遍历\n",
    "        support = [root]\n",
    "        while support:\n",
    "            tmpNode = support[0]\n",
    "            tmpArrayList = supportArraryList[0]\n",
    "            \n",
    "            if tmpNode.left == None and tmpNode.right == None:\n",
    "                if sum(tmpArrayList) == expectNumber:\n",
    "                    ret.insert(0, tmpArrayList)\n",
    "                    \n",
    "            #广度优先遍历\n",
    "            if tmpNode.left:\n",
    "                #append节点Node\n",
    "                support.append(tmpNode.left)\n",
    "                #append列表  路径值\n",
    "                newTmpArrayList = copy.copy(tmpArrayList)\n",
    "                newTmpArrayList.append(tmpNode.left.val)\n",
    "                supportArraryList.append(newTmpArrayList)\n",
    "            if tmpNode.right:\n",
    "                support.append(tmpNode.right)\n",
    "                newTmpArrayList = copy.copy(tmpArrayList)\n",
    "                newTmpArrayList.append(tmpNode.right.val)\n",
    "                supportArraryList.append(newTmpArrayList)\n",
    "\n",
    "            del supportArraryList[0]\n",
    "            del support[0]\n",
    "        return ret"
   ]
  }
 ],
 "metadata": {
  "kernelspec": {
   "display_name": "Python 3",
   "language": "python",
   "name": "python3"
  },
  "language_info": {
   "codemirror_mode": {
    "name": "ipython",
    "version": 3
   },
   "file_extension": ".py",
   "mimetype": "text/x-python",
   "name": "python",
   "nbconvert_exporter": "python",
   "pygments_lexer": "ipython3",
   "version": "3.7.6"
  }
 },
 "nbformat": 4,
 "nbformat_minor": 4
}
