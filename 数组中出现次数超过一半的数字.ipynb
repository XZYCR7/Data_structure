{
 "cells": [
  {
   "cell_type": "markdown",
   "metadata": {},
   "source": [
    "# 题目描述\n",
    "### 数组中有一个数字出现的次数超过数组长度的一半，请找出这个数字。例如输入一个长度为9的数组{1,2,3,2,2,2,5,4,2}。由于数字2在数组中出现了5次，超过数组长度的一半，因此输出2。如果不存在则输出0。"
   ]
  },
  {
   "cell_type": "markdown",
   "metadata": {},
   "source": [
    "## 方法一：时间复杂度O(n)，空间复杂度O(n)"
   ]
  },
  {
   "cell_type": "code",
   "execution_count": 1,
   "metadata": {},
   "outputs": [
    {
     "name": "stdout",
     "output_type": "stream",
     "text": [
      "2\n"
     ]
    }
   ],
   "source": [
    "# -*- coding:utf-8 -*-\n",
    "class Solution:\n",
    "    def MoreThanHalfNum_Solution(self, numbers):\n",
    "        #dict [key] = count\n",
    "        numsCount = {}\n",
    "        numLen = len(numbers)\n",
    "\n",
    "        for num in numbers:\n",
    "            if num in numsCount:\n",
    "                numsCount[num] += 1\n",
    "            else:\n",
    "                numsCount[num] = 1\n",
    "            if numsCount[num] > (numLen >> 1):\n",
    "                return num\n",
    "        return 0\n",
    "\n",
    "if __name__ == '__main__':\n",
    "    s = Solution()\n",
    "    numbers = [1,2,3,2,2,2,5,4,2]\n",
    "    ans = s.MoreThanHalfNum_Solution(numbers)\n",
    "    print(ans)"
   ]
  },
  {
   "cell_type": "markdown",
   "metadata": {},
   "source": [
    "## 方法二：时间复杂度O(n),空间复杂度O(1)\n",
    "### 思路：遇到不相同的数字就相互抵消掉，最终剩下的数字就可能是大于一半的数字，如果没有，就没有大于一半的数字"
   ]
  },
  {
   "cell_type": "code",
   "execution_count": null,
   "metadata": {},
   "outputs": [],
   "source": [
    "# -*- coding:utf-8 -*-\n",
    "class Solution:\n",
    "    def MoreThanHalfNum_Solution(self, numbers):\n",
    "        last = 0\n",
    "        lastCount = 0\n",
    "\n",
    "        for num in numbers:\n",
    "            if lastCount == 0:\n",
    "                last = num\n",
    "                lastCount = 1\n",
    "            else:\n",
    "                if num == last:\n",
    "                    lastCount += 1\n",
    "                else:\n",
    "                    lastCount -= 1\n",
    "\n",
    "        if lastCount == 0:\n",
    "            return 0\n",
    "        else:\n",
    "            #这种情况是last可能是大于一半的数字\n",
    "            lastCount = 0\n",
    "            for num in numbers:\n",
    "                if num == last:\n",
    "                    lastCount += 1\n",
    "            if lastCount > (len(numbers) >> 1):\n",
    "                return last\n",
    "        return 0\n",
    "\n",
    "if __name__ == '__main__':\n",
    "    s = Solution()\n",
    "    numbers = [1,2,3,2,2,2,5,4,2]\n",
    "    ans = s.MoreThanHalfNum_Solution(numbers)\n",
    "    print(ans)"
   ]
  }
 ],
 "metadata": {
  "kernelspec": {
   "display_name": "Python 3",
   "language": "python",
   "name": "python3"
  },
  "language_info": {
   "codemirror_mode": {
    "name": "ipython",
    "version": 3
   },
   "file_extension": ".py",
   "mimetype": "text/x-python",
   "name": "python",
   "nbconvert_exporter": "python",
   "pygments_lexer": "ipython3",
   "version": "3.7.6"
  }
 },
 "nbformat": 4,
 "nbformat_minor": 4
}
