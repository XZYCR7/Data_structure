{
 "cells": [
  {
   "cell_type": "markdown",
   "metadata": {},
   "source": [
    "# 题目描述\n",
    "##### 输入某二叉树的前序遍历和中序遍历的结果，请重建出该二叉树。假设输入的前序遍历和中序遍历的结果中都不含重复的数字。例如输入前序遍历序列{1,2,4,7,3,5,6,8}和中序遍历序列{4,7,2,1,5,3,8,6}，则重建二叉树并返回。"
   ]
  },
  {
   "cell_type": "code",
   "execution_count": 2,
   "metadata": {},
   "outputs": [],
   "source": [
    "# -*- coding:utf-8 -*-\n",
    "class TreeNode:\n",
    "    def __init__(self, x):\n",
    "        self.val = x\n",
    "        self.left = None\n",
    "        self.right = None\n",
    "class Solution:\n",
    "    # 返回构造的TreeNode根节点\n",
    "    def reConstructBinaryTree(self, pre, tin):\n",
    "        #前序（根-左-右）：\n",
    "        #中序（左-根-右）：\n",
    "        if not pre or not tin:\n",
    "            return\n",
    "        if len(pre) != len(tin):\n",
    "            return\n",
    "\n",
    "        #取出pre的值\n",
    "        root = pre[0]\n",
    "        rootNode = TreeNode(root)#新建节点\n",
    "\n",
    "        #在tin中找到root的pos\n",
    "        pos = tin.index(root)\n",
    "\n",
    "        #对中序切分\n",
    "        tinLeft = tin[:pos]\n",
    "        tinRight = tin[pos+1:]\n",
    "\n",
    "        #对前序切片\n",
    "        preLeft = pre[1:pos+1]\n",
    "        preRight = pre[pos+1:]\n",
    "\n",
    "        leftNode = self.reConstructBinaryTree(preLeft, tinLeft)\n",
    "        rightNode = self.reConstructBinaryTree(preRight, tinRight)\n",
    "\n",
    "        if leftNode:\n",
    "            rootNode.left = leftNode\n",
    "        if rightNode:\n",
    "            rootNode.right = rightNode\n",
    "        return rootNode\n",
    "\n",
    "if __name__ == '__main__':\n",
    "    s = Solution()\n",
    "    pre = [1,2,4,7,3,5,6,8]\n",
    "    tin = [4,7,2,1,5,3,8,6]\n",
    "    ans = s.reConstructBinaryTree(pre, tin)\n",
    "    print(ans.val)\n",
    "    print(ans.left.val)\n",
    "    print(ans.right.val)\n",
    "    print(ans.left.left.val)\n",
    "    #print(ans.left.right.val)\n",
    "    print(ans.right.left.val)"
   ]
  }
 ],
 "metadata": {
  "kernelspec": {
   "display_name": "Python 3",
   "language": "python",
   "name": "python3"
  },
  "language_info": {
   "codemirror_mode": {
    "name": "ipython",
    "version": 3
   },
   "file_extension": ".py",
   "mimetype": "text/x-python",
   "name": "python",
   "nbconvert_exporter": "python",
   "pygments_lexer": "ipython3",
   "version": "3.7.6"
  }
 },
 "nbformat": 4,
 "nbformat_minor": 4
}
