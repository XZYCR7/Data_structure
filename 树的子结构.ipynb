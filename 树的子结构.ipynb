{
 "cells": [
  {
   "cell_type": "markdown",
   "metadata": {},
   "source": [
    "# 题目描述\n",
    "##### 输入两棵二叉树A，B，判断B是不是A的子结构。（ps：我们约定空树不是任意一个树的子结构）"
   ]
  },
  {
   "cell_type": "code",
   "execution_count": null,
   "metadata": {},
   "outputs": [],
   "source": [
    "# -*- coding:utf-8 -*-\n",
    "class TreeNode:\n",
    "    def __init__(self, x):\n",
    "        self.val = x\n",
    "        self.left = None\n",
    "        self.right = None\n",
    "class Solution:\n",
    "    def HasSubtree(self, pRoot1, pRoot2):\n",
    "        #非法情况\n",
    "        if pRoot2 == None or pRoot1 == None:\n",
    "            return False\n",
    "\n",
    "        def hasEqual(pRoot1, pRoot2):\n",
    "            if pRoot2 == None:\n",
    "                return True\n",
    "            if pRoot1 == None:\n",
    "                return False\n",
    "            #要判断两个Root是否相等，先判断根节点是否相等\n",
    "            if pRoot1.val == pRoot2.val:\n",
    "                if pRoot2.left == None:\n",
    "                    leftEqual = True\n",
    "                else:\n",
    "                    leftEqual = hasEqual(pRoot1.left, pRoot2.left) #左边相等\n",
    "                if pRoot2.right == None:\n",
    "                    rightEqual = True\n",
    "                else:\n",
    "                    rightEqual = hasEqual(pRoot1.right, pRoot2.right) #右边相等\n",
    "                return leftEqual and rightEqual\n",
    "            return False #不相等则返回false\n",
    "        #判断根节点是否相等\n",
    "        if pRoot1.val == pRoot2.val:\n",
    "            ret = hasEqual(pRoot1, pRoot2)\n",
    "            if ret:\n",
    "                return True\n",
    "        #判断左子树是否相等\n",
    "        ret = self.HasSubtree(pRoot1.left, pRoot2)\n",
    "        if ret:\n",
    "            return True\n",
    "        #判断右子树是否相等\n",
    "        ret = self.HasSubtree(pRoot1.right, pRoot2)\n",
    "        return ret\n",
    "\n"
   ]
  }
 ],
 "metadata": {
  "kernelspec": {
   "display_name": "Python 3",
   "language": "python",
   "name": "python3"
  },
  "language_info": {
   "codemirror_mode": {
    "name": "ipython",
    "version": 3
   },
   "file_extension": ".py",
   "mimetype": "text/x-python",
   "name": "python",
   "nbconvert_exporter": "python",
   "pygments_lexer": "ipython3",
   "version": "3.7.6"
  }
 },
 "nbformat": 4,
 "nbformat_minor": 4
}
